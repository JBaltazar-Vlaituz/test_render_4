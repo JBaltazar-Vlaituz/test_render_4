{
 "cells": [
  {
   "cell_type": "code",
   "execution_count": null,
   "id": "bb5a72df",
   "metadata": {},
   "outputs": [],
   "source": [
    "import pandas as pd\n",
    "import plotly.express as px\n",
    "\n",
    "df = pd.read_csv('../vehicles_us.csv')\n",
    "df.head()"
   ]
  },
  {
   "cell_type": "code",
   "execution_count": null,
   "id": "78ff80ae",
   "metadata": {},
   "outputs": [],
   "source": [
    "px.histogram(df, x='odometer', title='Distribución del odómetro')\n",
    "px.scatter(df, x='odometer', y='price', color='type', title='Relación entre odómetro y precio según tipo de vehículo')\n"
   ]
  }
 ],
 "metadata": {
  "kernelspec": {
   "display_name": "Python 3",
   "language": "python",
   "name": "python3"
  },
  "language_info": {
   "name": "python",
   "version": "3.11.9"
  }
 },
 "nbformat": 4,
 "nbformat_minor": 5
}
